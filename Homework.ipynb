{
  "metadata": {
    "language_info": {
      "codemirror_mode": {
        "name": "python",
        "version": 3
      },
      "file_extension": ".py",
      "mimetype": "text/x-python",
      "name": "python",
      "nbconvert_exporter": "python",
      "pygments_lexer": "ipython3",
      "version": "3.8"
    },
    "kernelspec": {
      "name": "python",
      "display_name": "Pyolite",
      "language": "python"
    }
  },
  "nbformat_minor": 4,
  "nbformat": 4,
  "cells": [
    {
      "cell_type": "markdown",
      "source": "# My Jupyter Notebook on IBM Watson Studio",
      "metadata": {}
    },
    {
      "cell_type": "markdown",
      "source": "**Andres Soto**  \nData scientist obviously",
      "metadata": {}
    },
    {
      "cell_type": "markdown",
      "source": "*I'm interested in data science because is one of the hottest and sexys jobs of the century*",
      "metadata": {}
    },
    {
      "cell_type": "markdown",
      "source": "### The code in the next line is suposed to greet my peer and reviewer",
      "metadata": {}
    },
    {
      "cell_type": "code",
      "source": "print(\"Hi Buddy\")",
      "metadata": {
        "trusted": true
      },
      "execution_count": 2,
      "outputs": [
        {
          "name": "stdout",
          "text": "Hi Buddy\n",
          "output_type": "stream"
        }
      ]
    },
    {
      "cell_type": "markdown",
      "source": "A Nice Bulleted list\n* Item 1\n* Item 2\n* Etc\n\n\nA Nice Table\n\n|Name|Lastname|\n|--|--|\n|Andres|Soto|\n\n\nA Nice [Link](https://www.zelda.com/)\n",
      "metadata": {}
    }
  ]
}